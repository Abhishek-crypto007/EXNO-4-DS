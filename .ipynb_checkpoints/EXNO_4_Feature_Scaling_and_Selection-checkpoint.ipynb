{
 "cells": [
  {
   "cell_type": "code",
   "execution_count": 4,
   "metadata": {},
   "outputs": [
    {
     "name": "stdout",
     "output_type": "stream",
     "text": [
      "Filter Method: Index(['Height', 'Weight'], dtype='object')\n",
      "Wrapper Method (RFE): Index(['Gender', 'Height'], dtype='object')\n",
      "Embedded Method: Index(['Weight', 'Height'], dtype='object')\n",
      "All processed BMI datasets saved successfully!\n"
     ]
    }
   ],
   "source": [
    "import pandas as pd\n",
    "from sklearn.preprocessing import StandardScaler, MinMaxScaler, MaxAbsScaler, RobustScaler, Normalizer, LabelEncoder\n",
    "from sklearn.feature_selection import SelectKBest, mutual_info_regression, RFE\n",
    "from sklearn.ensemble import RandomForestRegressor\n",
    "from sklearn.linear_model import LinearRegression\n",
    "import os\n",
    "\n",
    "# Read dataset\n",
    "df = pd.read_csv('bmi.csv')\n",
    "\n",
    "# Encode Gender\n",
    "le = LabelEncoder()\n",
    "df['Gender'] = le.fit_transform(df['Gender'])  # Male=1, Female=0\n",
    "\n",
    "# Split features and target\n",
    "X = df.drop('Index', axis=1)\n",
    "y = df['Index']\n",
    "\n",
    "# Feature scaling\n",
    "scalers = {\n",
    "    \"StandardScaler\": StandardScaler(),\n",
    "    \"MinMaxScaler\": MinMaxScaler(),\n",
    "    \"MaxAbsScaler\": MaxAbsScaler(),\n",
    "    \"RobustScaler\": RobustScaler(),\n",
    "    \"Normalizer\": Normalizer()\n",
    "}\n",
    "\n",
    "scaled_data = {}\n",
    "for name, scaler in scalers.items():\n",
    "    X_scaled = pd.DataFrame(scaler.fit_transform(X), columns=X.columns)\n",
    "    scaled_data[name] = X_scaled\n",
    "\n",
    "# Feature selection\n",
    "# Filter Method\n",
    "filter_selector = SelectKBest(mutual_info_regression, k=2)\n",
    "filter_selector.fit(X, y)\n",
    "selected_features_filter = X.columns[filter_selector.get_support()]\n",
    "print(\"Filter Method:\", selected_features_filter)\n",
    "\n",
    "# Wrapper Method\n",
    "lr = LinearRegression()\n",
    "rfe_selector = RFE(lr, n_features_to_select=2)\n",
    "rfe_selector.fit(X, y)\n",
    "selected_features_rfe = X.columns[rfe_selector.support_]\n",
    "print(\"Wrapper Method (RFE):\", selected_features_rfe)\n",
    "\n",
    "# Embedded Method\n",
    "rf = RandomForestRegressor()\n",
    "rf.fit(X, y)\n",
    "importances = pd.Series(rf.feature_importances_, index=X.columns)\n",
    "selected_features_embedded = importances.nlargest(2).index\n",
    "print(\"Embedded Method:\", selected_features_embedded)\n",
    "\n",
    "# Save processed datasets\n",
    "output_dir = 'processed_bmi'\n",
    "os.makedirs(output_dir, exist_ok=True)\n",
    "\n",
    "for scaler_name, X_scaled in scaled_data.items():\n",
    "    # Filter\n",
    "    pd.concat([X_scaled[selected_features_filter], y.reset_index(drop=True)], axis=1)\\\n",
    "      .to_csv(f\"{output_dir}/{scaler_name}_Filter.csv\", index=False)\n",
    "    # RFE\n",
    "    pd.concat([X_scaled[selected_features_rfe], y.reset_index(drop=True)], axis=1)\\\n",
    "      .to_csv(f\"{output_dir}/{scaler_name}_RFE.csv\", index=False)\n",
    "    # Embedded\n",
    "    pd.concat([X_scaled[selected_features_embedded], y.reset_index(drop=True)], axis=1)\\\n",
    "      .to_csv(f\"{output_dir}/{scaler_name}_Embedded.csv\", index=False)\n",
    "\n",
    "print(\"All processed BMI datasets saved successfully!\")\n"
   ]
  },
  {
   "cell_type": "code",
   "execution_count": null,
   "metadata": {},
   "outputs": [],
   "source": []
  },
  {
   "cell_type": "code",
   "execution_count": null,
   "metadata": {},
   "outputs": [],
   "source": []
  }
 ],
 "metadata": {
  "colab": {
   "provenance": []
  },
  "kernelspec": {
   "display_name": "Python 3 (ipykernel)",
   "language": "python",
   "name": "python3"
  },
  "language_info": {
   "codemirror_mode": {
    "name": "ipython",
    "version": 3
   },
   "file_extension": ".py",
   "mimetype": "text/x-python",
   "name": "python",
   "nbconvert_exporter": "python",
   "pygments_lexer": "ipython3",
   "version": "3.13.5"
  }
 },
 "nbformat": 4,
 "nbformat_minor": 4
}
